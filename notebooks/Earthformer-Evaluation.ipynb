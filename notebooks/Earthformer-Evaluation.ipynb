{
 "cells": [
  {
   "cell_type": "code",
   "execution_count": 1,
   "id": "2f3b8446-f1d1-4e83-8c98-b14d544b4f7e",
   "metadata": {
    "execution": {
     "iopub.execute_input": "2024-07-09T16:12:15.305842Z",
     "iopub.status.busy": "2024-07-09T16:12:15.305640Z",
     "iopub.status.idle": "2024-07-09T16:12:23.283137Z",
     "shell.execute_reply": "2024-07-09T16:12:23.282663Z",
     "shell.execute_reply.started": "2024-07-09T16:12:15.305828Z"
    },
    "tags": []
   },
   "outputs": [],
   "source": [
    "from omegaconf import OmegaConf\n",
    "import os, sys\n",
    "import torch\n",
    "import glob\n",
    "import pickle\n",
    "import pandas as pd\n",
    "import numpy as np\n",
    "from scipy.stats import norm as scipy_norm\n",
    "import matplotlib.pyplot as plt\n",
    "import matplotlib.image as mpimg\n",
    "from pytorch_lightning import Trainer\n",
    "module_path = os.path.abspath(os.path.join('..'))\n",
    "if module_path not in sys.path:\n",
    "    sys.path.append(module_path)\n",
    "    \n",
    "from models import UNet, CuboidTransformerModel\n",
    "from utils.visualization import report_SEVIR_statistics\n",
    "from models.lightning import SEVIRPLModule"
   ]
  },
  {
   "cell_type": "code",
   "execution_count": 2,
   "id": "dfbd22a8-f67d-4457-85ff-54e5f34e645e",
   "metadata": {
    "execution": {
     "iopub.execute_input": "2024-07-09T16:12:23.284293Z",
     "iopub.status.busy": "2024-07-09T16:12:23.283988Z",
     "iopub.status.idle": "2024-07-09T16:12:23.286758Z",
     "shell.execute_reply": "2024-07-09T16:12:23.286451Z",
     "shell.execute_reply.started": "2024-07-09T16:12:23.284281Z"
    },
    "tags": []
   },
   "outputs": [],
   "source": [
    "model_name=\"mearthformer_drop_0.1\"\n",
    "save_dir = \"../models/experiments/{}/\".format(model_name)\n",
    "checkpoints = os.path.join(save_dir, \"checkpoints/\")\n",
    "\n",
    "oc_file = os.path.join(save_dir, \"cfg.yaml\")\n",
    "oc_from_file = OmegaConf.load(open(oc_file, \"r\"))\n",
    "device = torch.device(\"cuda\" if torch.cuda.is_available() else \"cpu\")"
   ]
  },
  {
   "cell_type": "code",
   "execution_count": 4,
   "id": "0b2d35c1-24da-4ab8-b5eb-23675d972698",
   "metadata": {
    "execution": {
     "iopub.execute_input": "2024-07-09T16:12:23.303007Z",
     "iopub.status.busy": "2024-07-09T16:12:23.302899Z",
     "iopub.status.idle": "2024-07-09T16:12:51.774561Z",
     "shell.execute_reply": "2024-07-09T16:12:51.774106Z",
     "shell.execute_reply.started": "2024-07-09T16:12:23.302998Z"
    },
    "tags": []
   },
   "outputs": [],
   "source": [
    "dataset_oc = OmegaConf.to_object(oc_from_file.dataset)\n",
    "micro_batch_size=1\n",
    "dm = SEVIRPLModule.get_sevir_datamodule(\n",
    "        dataset_oc=dataset_oc,\n",
    "        micro_batch_size=micro_batch_size,\n",
    "        num_workers=8,)\n",
    "dm.prepare_data()\n",
    "dm.setup()"
   ]
  },
  {
   "cell_type": "code",
   "execution_count": 6,
   "id": "fbe0b8d0-76c0-47d2-a3ef-44f94de1bbf0",
   "metadata": {
    "execution": {
     "iopub.execute_input": "2024-07-09T16:12:51.779016Z",
     "iopub.status.busy": "2024-07-09T16:12:51.778757Z",
     "iopub.status.idle": "2024-07-09T16:12:51.782487Z",
     "shell.execute_reply": "2024-07-09T16:12:51.782168Z",
     "shell.execute_reply.started": "2024-07-09T16:12:51.779006Z"
    },
    "tags": []
   },
   "outputs": [
    {
     "name": "stdout",
     "output_type": "stream",
     "text": [
      "['../models/experiments/earthformer/checkpoints/model-epoch=039.ckpt', '../models/experiments/earthformer/checkpoints/last.ckpt', '../models/experiments/earthformer/checkpoints/model-epoch=003.ckpt', '../models/experiments/earthformer/checkpoints/last-v1.ckpt']\n",
      "../models/experiments/earthformer/checkpoints/last.ckpt\n"
     ]
    }
   ],
   "source": [
    "ckpts = glob.glob(checkpoints + '*.ckpt')\n",
    "ckpts.sort()\n",
    "curr_ckpt = ckpts[1]\n",
    "print(ckpts)\n",
    "print(curr_ckpt)"
   ]
  },
  {
   "cell_type": "code",
   "execution_count": 7,
   "id": "e619000e-2f93-49d5-a5c1-d76ad2e41edd",
   "metadata": {
    "execution": {
     "iopub.execute_input": "2024-07-09T16:13:01.204138Z",
     "iopub.status.busy": "2024-07-09T16:13:01.203946Z",
     "iopub.status.idle": "2024-07-09T16:13:02.396251Z",
     "shell.execute_reply": "2024-07-09T16:13:02.395786Z",
     "shell.execute_reply.started": "2024-07-09T16:13:01.204126Z"
    },
    "tags": []
   },
   "outputs": [
    {
     "name": "stderr",
     "output_type": "stream",
     "text": [
      "/home/idies/workspace/Storage/akhot2/persistent/earthformer/lib/python3.12/site-packages/torch/functional.py:512: UserWarning: torch.meshgrid: in an upcoming release, it will be required to pass the indexing argument. (Triggered internally at ../aten/src/ATen/native/TensorShape.cpp:3587.)\n",
      "  return _VF.meshgrid(tensors, **kwargs)  # type: ignore[attr-defined]\n",
      "GPU available: True (cuda), used: True\n",
      "TPU available: False, using: 0 TPU cores\n",
      "HPU available: False, using: 0 HPUs\n"
     ]
    }
   ],
   "source": [
    "total_num_steps = SEVIRPLModule.get_total_num_steps(\n",
    "    epoch=oc_from_file.optim.max_epochs,\n",
    "    num_samples=dm.num_train_samples,\n",
    "    total_batch_size=oc_from_file.optim.total_batch_size,\n",
    ")\n",
    "pl_module = SEVIRPLModule.load_from_checkpoint(curr_ckpt, total_num_steps=total_num_steps, save_dir=model_name, oc_file=oc_file)\n",
    "accumulate_grad_batches = oc_from_file.optim.total_batch_size // (oc_from_file.optim.micro_batch_size * 1)\n",
    "trainer_kwargs = pl_module.set_trainer_kwargs(\n",
    "    devices= 1,\n",
    "    accumulate_grad_batches=accumulate_grad_batches,\n",
    ")\n",
    "trainer_kwargs['strategy'] = 'auto'\n",
    "if len(trainer_kwargs['logger']) == 3:\n",
    "    trainer_kwargs['logger'].pop()\n",
    "trainer = Trainer(**trainer_kwargs)"
   ]
  },
  {
   "cell_type": "code",
   "execution_count": 9,
   "id": "8779d0e9-ae75-45e5-a82f-f8198a295fff",
   "metadata": {
    "execution": {
     "iopub.execute_input": "2024-07-02T18:19:34.584352Z",
     "iopub.status.busy": "2024-07-02T18:19:34.584066Z",
     "iopub.status.idle": "2024-07-02T18:19:51.600021Z",
     "shell.execute_reply": "2024-07-02T18:19:51.599477Z",
     "shell.execute_reply.started": "2024-07-02T18:19:34.584339Z"
    }
   },
   "outputs": [
    {
     "name": "stderr",
     "output_type": "stream",
     "text": [
      "You are using a CUDA device ('NVIDIA H100 80GB HBM3') that has Tensor Cores. To properly utilize them, you should set `torch.set_float32_matmul_precision('medium' | 'high')` which will trade-off precision for performance. For more details, read https://pytorch.org/docs/stable/generated/torch.set_float32_matmul_precision.html#torch.set_float32_matmul_precision\n",
      "LOCAL_RANK: 0 - CUDA_VISIBLE_DEVICES: [0]\n"
     ]
    },
    {
     "name": "stdout",
     "output_type": "stream",
     "text": [
      "Testing DataLoader 0:   0%|          | 56/12159 [00:07<25:20,  7.96it/s] "
     ]
    },
    {
     "name": "stderr",
     "output_type": "stream",
     "text": [
      "/home/idies/workspace/Storage/akhot2/persistent/earthformer/lib/python3.12/site-packages/pytorch_lightning/trainer/call.py:54: Detected KeyboardInterrupt, attempting graceful shutdown...\n"
     ]
    }
   ],
   "source": [
    "trainer.test(model=pl_module, datamodule=dm)"
   ]
  }
 ],
 "metadata": {
  "kernelspec": {
   "display_name": "Python 3.9 (py39)",
   "language": "python",
   "name": "py39"
  },
  "language_info": {
   "codemirror_mode": {
    "name": "ipython",
    "version": 3
   },
   "file_extension": ".py",
   "mimetype": "text/x-python",
   "name": "python",
   "nbconvert_exporter": "python",
   "pygments_lexer": "ipython3",
   "version": "3.9.13"
  }
 },
 "nbformat": 4,
 "nbformat_minor": 5
}
