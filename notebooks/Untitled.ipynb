{
 "cells": [
  {
   "cell_type": "code",
   "execution_count": 3,
   "id": "a40f4884-0af8-4115-b702-26c168e1136c",
   "metadata": {
    "execution": {
     "iopub.execute_input": "2024-07-03T14:12:22.899763Z",
     "iopub.status.busy": "2024-07-03T14:12:22.899364Z",
     "iopub.status.idle": "2024-07-03T14:12:24.825838Z",
     "shell.execute_reply": "2024-07-03T14:12:24.825155Z",
     "shell.execute_reply.started": "2024-07-03T14:12:22.899746Z"
    },
    "tags": []
   },
   "outputs": [],
   "source": [
    "import wandb\n",
    "import random\n",
    "import torch\n",
    "import numpy as np\n",
    "import pandas as pd\n",
    "import pytorch_lightning as pl"
   ]
  },
  {
   "cell_type": "code",
   "execution_count": null,
   "id": "bf1fcb08-f0f3-44c2-9fe0-63090ae6136c",
   "metadata": {},
   "outputs": [],
   "source": [
    "sweep_config = {\n",
    "    'method': 'random'\n",
    "    }"
   ]
  },
  {
   "cell_type": "code",
   "execution_count": null,
   "id": "05e358f0-389f-408d-89c9-2a7b7ba3c2fb",
   "metadata": {},
   "outputs": [],
   "source": [
    "metric = {\n",
    "    'name': 'loss',\n",
    "    'goal': 'minimize'   \n",
    "    }\n",
    "\n",
    "sweep_config['metric'] = metric"
   ]
  },
  {
   "cell_type": "code",
   "execution_count": null,
   "id": "0f37e0d6-d928-4396-8bc6-4cdf5400c0fc",
   "metadata": {},
   "outputs": [],
   "source": [
    "sweep_config = {\n",
    "    'method': 'grid',  # Randomly sample the hyperparameter space (alternatives: grid, bayes)\n",
    "    'metric': {  # This is the metric we are interested in minimizing\n",
    "      'name': 'valid_csi_avg_epoch',\n",
    "      'goal': 'maximize'   \n",
    "    },\n",
    "    # Paramters and parameter values we are sweeping across\n",
    "    'parameters': {\n",
    "        'lambda': {\n",
    "            'values': [0, 1e-11, 1e-10, 1e-9, 1e-8, 1e-7, 1e-6, 1e-5, 1e-4, 1e-3, 1e-2]\n",
    "        },\n",
    "    }\n",
    "}"
   ]
  },
  {
   "cell_type": "code",
   "execution_count": null,
   "id": "8bed14aa-a24b-4073-8ef5-0ac7a07ddcb1",
   "metadata": {},
   "outputs": [],
   "source": [
    "# Create the sweep\n",
    "sweep_id = wandb.sweep(sweep_config, project=project, entity=entity)"
   ]
  },
  {
   "cell_type": "code",
   "execution_count": null,
   "id": "d93685fd-f57e-447b-a069-8ee37246eaa7",
   "metadata": {},
   "outputs": [],
   "source": [
    "# Run an agent 🕵️ to try out 5 hyperparameter combinations\n",
    "wandb.agent(sweep_id, function=train)"
   ]
  }
 ],
 "metadata": {
  "kernelspec": {
   "display_name": "earthformer",
   "language": "python",
   "name": "earthformer"
  },
  "language_info": {
   "codemirror_mode": {
    "name": "ipython",
    "version": 3
   },
   "file_extension": ".py",
   "mimetype": "text/x-python",
   "name": "python",
   "nbconvert_exporter": "python",
   "pygments_lexer": "ipython3",
   "version": "3.12.4"
  }
 },
 "nbformat": 4,
 "nbformat_minor": 5
}
